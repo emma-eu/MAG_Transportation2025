{
 "cells": [
  {
   "cell_type": "code",
   "execution_count": 3,
   "metadata": {},
   "outputs": [],
   "source": [
    "import pandas as pd\n",
    "import os"
   ]
  },
  {
   "cell_type": "code",
   "execution_count": 4,
   "metadata": {},
   "outputs": [
    {
     "data": {
      "text/html": [
       "<div class='gpresult'><h2 class='msg-title'>Messages</h2><div id='messages'>Start Time: Tuesday, March 18, 2025 8:40:45 AM<br>Succeeded at Tuesday, March 18, 2025 8:40:46 AM (Elapsed Time: 0.91 seconds)<br></div><div id = 'default' /></div></div>"
      ],
      "text/plain": [
       "<Result 'TransportationMasterPlans_2024'>"
      ]
     },
     "execution_count": 4,
     "metadata": {},
     "output_type": "execute_result"
    }
   ],
   "source": [
    "#Select and delete all of the appended TOWN (UPDATE PER ITERATION) data from the MAG dataset\n",
    "\n",
    "arcpy.management.SelectLayerByAttribute(\n",
    "    in_layer_or_view=\"TransportationMasterPlans_2024\",\n",
    "    selection_type=\"ADD_TO_SELECTION\",\n",
    "    where_clause=\"City IS NULL OR City = ''\",\n",
    "    invert_where_clause=None\n",
    ")\n",
    "\n",
    "arcpy.management.DeleteRows(\n",
    "    in_rows=\"TransportationMasterPlans_2024\"\n",
    ")\n"
   ]
  },
  {
   "cell_type": "code",
   "execution_count": 5,
   "metadata": {},
   "outputs": [],
   "source": [
    "#Set datasource and datasets\n",
    "#All variables needed for each iteration are located here\n",
    "\n",
    "#Set workspace\n",
    "arcpy.env.workspace = \"C:\\\\Users\\\\eclinton\\\\Documents\\\\ArcGIS\\\\Projects\\\\MAG_TransportationUpdate\\\\MAG_TransportationUpdate.gdb\"\n",
    "coordinate_system = 26912\n",
    "\n",
    "#Add a section to download data from link and add it to the .gdb with a new name?\n",
    "#datasource = r'https://services7.arcgis.com/8iAE9RYcVCN6ZjpB/arcgis/rest/services/FutureFuncClass/FeatureServer/0'\n",
    "\n",
    "#This will add the dataset, once added to the map, to the geodatabase for the project (RESET the name) \n",
    "#with arcpy.EnvManager(outputCoordinateSystem='PROJCS[\"NAD_1983_UTM_Zone_12N\",GEOGCS[\"GCS_North_American_1983\",DATUM[\"D_North_American_1983\",SPHEROID[\"GRS_1980\",6378137.0,298.257222101]],PRIMEM[\"Greenwich\",0.0],UNIT[\"Degree\",0.0174532925199433]],PROJECTION[\"Transverse_Mercator\"],PARAMETER[\"False_Easting\",500000.0],PARAMETER[\"False_Northing\",0.0],PARAMETER[\"Central_Meridian\",-111.0],PARAMETER[\"Scale_Factor\",0.9996],PARAMETER[\"Latitude_Of_Origin\",0.0],UNIT[\"Meter\",1.0]]'):\n",
    " #   arcpy.conversion.FeatureClassToGeodatabase(\n",
    "  #      Input_Features=\"EagleMountain_Future_Functional_Class\",\n",
    "   #     Output_Geodatabase=r\"C:\\Users\\eclinton\\Documents\\ArcGIS\\Projects\\MAG_TransportationUpdate\\MAG_TransportationUpdate.gdb\"\n",
    "    #)\n",
    "    \n",
    "#transit_data = \"C:\\\\Users\\\\eclinton\\\\Documents\\\\ArcGIS\\\\Projects\\\\MAG_TransportationUpdate\\\\MAG_TransportationUpdate.gdb\\\\EagleMountain_Future_Functional_Class\"\n",
    "municipalities = \"Municipalities_Working\"\n",
    "transit_masterplan = \"Arterial_Collector_Rds\"\n",
    "\n",
    "county = \"C:\\\\Users\\\\eclinton\\\\Documents\\\\ArcGIS\\\\Projects\\\\MAG_TransportationUpdate\\\\MAG_TransportationUpdate.gdb\\\\Utah_Co\"\n",
    "\n",
    "#When applied, this allows you to re-run the code and delete its outputs when you re-run\n",
    "def deleteIfExists(obj):\n",
    "    if arcpy.Exists(obj): arcpy.Delete_management(obj)\n",
    "\n",
    "#Delete the clipped output (RESET with new town name variable if you run multiple times on each dataset)\n",
    "deleteIfExists('C:\\\\Users\\\\eclinton\\\\Documents\\\\ArcGIS\\\\Projects\\\\MAG_TransportationUpdate\\\\MAG_TransportationUpdate.gdb\\\\County_NoTowns')\n",
    "deleteIfExists('C:\\\\Users\\\\eclinton\\\\Documents\\\\ArcGIS\\\\Projects\\\\MAG_TransportationUpdate\\\\MAG_TransportationUpdate.gdb\\\\County_Clipped')\n",
    "deleteIfExists('C:\\\\Users\\\\eclinton\\\\Documents\\\\ArcGIS\\\\Projects\\\\MAG_TransportationUpdate\\\\MAG_TransportationUpdate.gdb\\\\Utah_Co_Outliers')\n",
    "deleteIfExists('C:\\\\Users\\\\eclinton\\\\Documents\\\\ArcGIS\\\\Projects\\\\MAG_TransportationUpdate\\\\MAG_TransportationUpdate.gdb\\\\Utah_Co_EraseTowns')\n",
    "deleteIfExists('C:\\\\Users\\\\eclinton\\\\Documents\\\\ArcGIS\\\\Projects\\\\MAG_TransportationUpdate\\\\MAG_TransportationUpdate.gdb\\\\TransitOutliers_Appended')\n",
    "deleteIfExists('C:\\\\Users\\\\eclinton\\\\Documents\\\\ArcGIS\\\\Projects\\\\MAG_TransportationUpdate\\\\MAG_TransportationUpdate.gdb\\\\TransitOutlier_Clipped')\n",
    "deleteIfExists('C:\\\\Users\\\\eclinton\\\\Documents\\\\ArcGIS\\\\Projects\\\\MAG_TransportationUpdate\\\\MAG_TransportationUpdate.gdb\\\\Transit_Outliers')\n",
    "#deleteIfExists(transit_clipped)\n",
    "#deleteIfExists(transit_toAppend)"
   ]
  },
  {
   "cell_type": "code",
   "execution_count": 6,
   "metadata": {},
   "outputs": [
    {
     "data": {
      "text/html": [
       "<div class='gpresult'><h2 class='msg-title'>Messages</h2><div id='messages'>Start Time: Tuesday, March 18, 2025 8:40:50 AM<br>Succeeded at Tuesday, March 18, 2025 8:40:52 AM (Elapsed Time: 2.16 seconds)<br></div><div id = 'default' /></div></div>"
      ],
      "text/plain": [
       "<Result 'C:\\\\Users\\\\eclinton\\\\Documents\\\\ArcGIS\\\\Projects\\\\MAG_TransportationUpdate\\\\MAG_TransportationUpdate.gdb\\\\County_NoTowns'>"
      ]
     },
     "execution_count": 6,
     "metadata": {},
     "output_type": "execute_result"
    }
   ],
   "source": [
    "#Find which features lie outside of the current municipal boundaries for future use (RESET for next case) \n",
    "arcpy.analysis.PairwiseErase(\n",
    "    in_features=\"Utah_Co\",\n",
    "    erase_features=municipalities,\n",
    "    out_feature_class=r\"C:\\Users\\eclinton\\Documents\\ArcGIS\\Projects\\MAG_TransportationUpdate\\MAG_TransportationUpdate.gdb\\County_NoTowns\",\n",
    "    cluster_tolerance=None\n",
    ")\n"
   ]
  },
  {
   "cell_type": "code",
   "execution_count": 7,
   "metadata": {},
   "outputs": [
    {
     "data": {
      "text/html": [
       "<div class='gpresult'><h2 class='msg-title'>Messages</h2><div id='messages'>Start Time: Tuesday, March 18, 2025 8:40:53 AM<br>Succeeded at Tuesday, March 18, 2025 8:40:55 AM (Elapsed Time: 1.55 seconds)<br></div><div id = 'default' /></div></div>"
      ],
      "text/plain": [
       "<Result 'C:\\\\Users\\\\eclinton\\\\Documents\\\\ArcGIS\\\\Projects\\\\MAG_TransportationUpdate\\\\MAG_TransportationUpdate.gdb\\\\Utah_Co_Outliers'>"
      ]
     },
     "execution_count": 7,
     "metadata": {},
     "output_type": "execute_result"
    }
   ],
   "source": [
    "#Erase the annexation areas from the county layer that has had the towns erased\n",
    "arcpy.analysis.PairwiseErase(\n",
    "    in_features=\"County_NoTowns\",\n",
    "    erase_features=\"MAG_AnnexAreas\",\n",
    "    out_feature_class=r\"C:\\Users\\eclinton\\Documents\\ArcGIS\\Projects\\MAG_TransportationUpdate\\MAG_TransportationUpdate.gdb\\Utah_Co_Outliers\",\n",
    "    cluster_tolerance=None\n",
    ")"
   ]
  },
  {
   "cell_type": "code",
   "execution_count": 8,
   "metadata": {},
   "outputs": [],
   "source": [
    "#Clip the transit data to the erased county boundaries\n",
    "with arcpy.EnvManager(outputCoordinateSystem=coordinate_system):\n",
    "    arcpy.analysis.Clip(\"Arterial_Collector_Rds\", \"Utah_Co_Outliers\", 'TransitOutlier_Clipped')\n",
    "\n",
    "transit_clipped = 'TransitOutlier_Clipped'"
   ]
  },
  {
   "cell_type": "code",
   "execution_count": 9,
   "metadata": {},
   "outputs": [
    {
     "name": "stdout",
     "output_type": "stream",
     "text": [
      "['OBJECTID_1', 'Shape', 'OBJECTID', 'NAME', 'TYPE', 'STATUS', 'SETBACK', 'SOURCE', 'GLOBALID', 'LASTUPDATE', 'LASTEDITOR', 'CREATED_US', 'CREATED_DA', 'LAST_EDITE', 'LAST_EDI_1', 'Shape_Length']\n"
     ]
    }
   ],
   "source": [
    "#Examine the transit dataframe\n",
    "fields = [f.name for f in arcpy.ListFields(transit_clipped)]\n",
    "print(fields)"
   ]
  },
  {
   "cell_type": "code",
   "execution_count": 10,
   "metadata": {},
   "outputs": [
    {
     "name": "stdout",
     "output_type": "stream",
     "text": [
      "You should now have a layer with only relevant or required fields from the original dataset\n"
     ]
    }
   ],
   "source": [
    "# Set local variables and fields to be dropped from the previous step's output (RESET with new town name) \n",
    "transit_toAppend = \"TransitOutliers\"\n",
    "\n",
    "#RESET drop fields based on previous output\n",
    "inFeatures = transit_clipped\n",
    "outFeatureClass = transit_toAppend\n",
    "dropFields =['OBJECTID', 'STATUS', 'SETBACK', 'SOURCE', 'GLOBALID', 'LASTUPDATE', 'LASTEDITOR', 'CREATED_US', 'CREATED_DA', 'LAST_EDITE', 'LAST_EDI_1',]\n",
    "\n",
    "# Execute CopyFeatures to make a new copy of the feature class\n",
    "#  Use CopyRows if you have a table\n",
    "arcpy.CopyFeatures_management(inFeatures, outFeatureClass)\n",
    " \n",
    "# Execute DeleteField\n",
    "arcpy.DeleteField_management(outFeatureClass, dropFields)\n",
    "\n",
    "print(\"You should now have a layer with only relevant or required fields from the original dataset\")"
   ]
  },
  {
   "cell_type": "code",
   "execution_count": 11,
   "metadata": {},
   "outputs": [
    {
     "data": {
      "text/html": [
       "<div class='gpresult'><h2 class='msg-title'>Messages</h2><div id='messages'>Start Time: Tuesday, March 18, 2025 8:41:02 AM<br>Succeeded at Tuesday, March 18, 2025 8:41:03 AM (Elapsed Time: 1.23 seconds)<br></div><div id = 'default' /></div></div>"
      ],
      "text/plain": [
       "<Result 'TransitOutliers'>"
      ]
     },
     "execution_count": 11,
     "metadata": {},
     "output_type": "execute_result"
    }
   ],
   "source": [
    "#Change any field names to match what is in the MAG master data\n",
    "\n",
    "arcpy.management.AlterFields(\n",
    "    in_table=transit_toAppend,\n",
    "    field_description=\"NAME StreetName 'Street Name' TEXT 255 # #;TYPE CityRdType 'City Road Type' TEXT 255 # #\"\n",
    ")"
   ]
  },
  {
   "cell_type": "code",
   "execution_count": 12,
   "metadata": {},
   "outputs": [
    {
     "data": {
      "text/html": [
       "<div class='gpresult'><h2 class='msg-title'>Messages</h2><div id='messages'>Start Time: Tuesday, March 18, 2025 8:41:03 AM<br>Adding LanesToday to TransitOutliers...<br>Adding LanesPlan to TransitOutliers...<br>Adding WidthToday to TransitOutliers...<br>Adding WidthPlan to TransitOutliers...<br>Adding City to TransitOutliers...<br>Adding County to TransitOutliers...<br>Adding GenRdType to TransitOutliers...<br>Adding PlanYear to TransitOutliers...<br>Adding PlanSource to TransitOutliers...<br>Adding DataSource to TransitOutliers...<br>Adding AnnexArea to TransitOutliers...<br>Succeeded at Tuesday, March 18, 2025 8:41:04 AM (Elapsed Time: 1.05 seconds)<br></div><div id = 'default' /></div></div>"
      ],
      "text/plain": [
       "<Result 'TransitOutliers'>"
      ]
     },
     "execution_count": 12,
     "metadata": {},
     "output_type": "execute_result"
    }
   ],
   "source": [
    "#Add any missing fields to match the MAG master data\n",
    "\n",
    "arcpy.management.AddFields(\n",
    "    in_table=transit_toAppend,\n",
    "    field_description=\"'LanesToday' SHORT 'Lanes Today' # # #;'LanesPlan' SHORT 'Lanes Plan' # # #;'WidthToday' SHORT 'Width Today' # # #;'WidthPlan' SHORT 'Width Plan' # # #;City TEXT City # # #;County TEXT County # # #;'GenRdType' TEXT 'Generalized Road Type' # # #;'PlanYear' LONG 'Plan Year' # # #;'PlanSource' TEXT 'Plan Source' # # #;'DataSource' TEXT 'Data Source' # # #;'AnnexArea' TEXT 'Future Annexation' # # #\",\n",
    "    template=None\n",
    ")\n",
    "\n",
    "#field_description=\"'LanesToday' SHORT 'Lanes Today' # # #;'LanesPlan' SHORT 'Lanes Plan' # # #;'WidthToday' SHORT 'Width Today' # # #;'WidthPlan' SHORT 'Width Plan' # # #;City TEXT City # # #;County TEXT County # # #;'GenRdType' TEXT 'Generalized Road Type' # # #;'PlanYear' LONG 'Plan Year' # # #;'PlanSource' TEXT 'Plan Source' # # #;'DataSource' TEXT 'Data Source' # # #;'AnnexArea' TEXT 'Future Annexation' # # #\",\n"
   ]
  },
  {
   "cell_type": "code",
   "execution_count": 13,
   "metadata": {},
   "outputs": [
    {
     "data": {
      "text/html": [
       "<div class='gpresult'><h2 class='msg-title'>Messages</h2><div id='messages'>Start Time: Tuesday, March 18, 2025 8:41:05 AM<br>Succeeded at Tuesday, March 18, 2025 8:41:06 AM (Elapsed Time: 0.20 seconds)<br></div><div id = 'default' /></div></div>"
      ],
      "text/plain": [
       "<Result 'TransitOutliers'>"
      ]
     },
     "execution_count": 13,
     "metadata": {},
     "output_type": "execute_result"
    }
   ],
   "source": [
    "#Populate the County field\n",
    "\n",
    "arcpy.management.CalculateFields(\n",
    "    in_table=transit_toAppend,\n",
    "    expression_type=\"PYTHON3\",\n",
    "    fields=\"\"\"County \"'Utah'\" # #; City '' # #\"\"\",\n",
    "    code_block=\"\",\n",
    "    enforce_domains=\"NO_ENFORCE_DOMAINS\"\n",
    ")\n",
    "\n",
    "arcpy.management.CalculateFields(\n",
    "    in_table=transit_toAppend,\n",
    "    expression_type=\"PYTHON3\",\n",
    "    fields=\"\"\"PlanYear \"'2014'\" # #\"\"\",\n",
    "    code_block=\"\",\n",
    "    enforce_domains=\"NO_ENFORCE_DOMAINS\"\n",
    ")\n",
    "\n",
    "arcpy.management.CalculateFields(\n",
    "    in_table=transit_toAppend,\n",
    "    expression_type=\"PYTHON3\",\n",
    "    fields=\"\"\"PlanSource \"'https://codev.utahcounty.gov/cms/uploads/Transport_Element_1_compressed_c0c1d0e617.pdf'\" # #\"\"\",\n",
    "    code_block=\"\",\n",
    "    enforce_domains=\"NO_ENFORCE_DOMAINS\"\n",
    ")\n",
    "\n",
    "\n",
    "#data = 'https://data.magutah.gov/datasets/a359252b6a364b8fb6e9d66ff0063542_0/explore'\n",
    "\n",
    "#Data Source\n",
    "#with arcpy.da.UpdateCursor(transit_toAppend, [\"DataSource\"]) as cursor:\n",
    "#    for row in cursor:\n",
    "#      # Update the field with the hyperlink\n",
    "#        row[0] = data\n",
    "#        cursor.updateRow(row)\n",
    "#print(\"Hyperlinks have been successfully entered as strings in the attribute table.\")"
   ]
  },
  {
   "cell_type": "code",
   "execution_count": 14,
   "metadata": {},
   "outputs": [],
   "source": [
    "non_city_dict = {\n",
    "    'Arterial': 'Other Principal Arterial',\n",
    "    'Collector': 'Minor Collector',\n",
    "    'Mobility': 'Minor Arterial',\n",
    "}\n",
    "\n",
    "fields = [\"CityRdType\",\"GenRdType\"]  # Ensure these match your dataset\n",
    "\n",
    "with arcpy.da.UpdateCursor(transit_toAppend, fields) as cursor:\n",
    "    for row in cursor:\n",
    "        original_value = row[0]  # Store original for debugging\n",
    "        if original_value is None or str(original_value).strip() == \"\":\n",
    "            row[1] = \"Local\"  # Default for missing values\n",
    "        else:\n",
    "            city_rd_type = str(original_value).strip()  # Normalize spacing\n",
    "            row[1] = non_city_dict.get(city_rd_type, \"Local\")  # Default to Local if not found\n",
    "        \n",
    "        # Debugging prints\n",
    "       # print(f\"Original: {original_value}, Normalized: {city_rd_type}, Updated: {row[1]}\")\n",
    "        \n",
    "        cursor.updateRow(row)"
   ]
  },
  {
   "cell_type": "code",
   "execution_count": 15,
   "metadata": {},
   "outputs": [
    {
     "name": "stdout",
     "output_type": "stream",
     "text": [
      "Start Time: Tuesday, March 18, 2025 8:41:10 AM\n",
      "86 row(s) from C:\\Users\\eclinton\\Documents\\ArcGIS\\Projects\\MAG_TransportationUpdate\\MAG_TransportationUpdate.gdb\\TransitOutliers were appended to C:\\Users\\eclinton\\Documents\\ArcGIS\\Projects\\MAG_TransportationUpdate\\MAG_TransportationUpdate.gdb\\TransportationMasterPlans_2024\n",
      "Succeeded at Tuesday, March 18, 2025 8:41:11 AM (Elapsed Time: 0.77 seconds)\n"
     ]
    }
   ],
   "source": [
    "with arcpy.EnvManager(outputCoordinateSystem=coordinate_system):\n",
    "    arcpy.management.Append(\n",
    "        inputs=\"TransitOutliers\",\n",
    "        target=\"TransportationMasterPlans_2024\",\n",
    "        schema_type=\"TEST\",\n",
    "        field_mapping=None,\n",
    "        subtype=\"\",\n",
    "        expression=\"\",\n",
    "        match_fields=None,\n",
    "        update_geometry=\"NOT_UPDATE_GEOMETRY\",\n",
    "        enforce_domains=\"NO_ENFORCE_DOMAINS\"\n",
    "    )\n",
    "\n",
    "print(arcpy.GetMessages())"
   ]
  }
 ],
 "metadata": {
  "kernelspec": {
   "display_name": "ArcGISPro",
   "language": "python",
   "name": "python3"
  },
  "language_info": {
   "file_extension": ".py",
   "mimetype": "text/x-python",
   "name": "python",
   "version": "3.11.10"
  }
 },
 "nbformat": 4,
 "nbformat_minor": 4
}
